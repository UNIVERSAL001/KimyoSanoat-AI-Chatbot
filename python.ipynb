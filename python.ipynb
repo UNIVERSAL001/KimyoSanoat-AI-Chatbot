{
 "cells": [
  {
   "cell_type": "markdown",
   "id": "1cb083f4",
   "metadata": {},
   "source": [
    "<video controls src=\"demo.mp4\" title=\"Title\"></video>"
   ]
  }
 ],
 "metadata": {
  "language_info": {
   "name": "python"
  }
 },
 "nbformat": 4,
 "nbformat_minor": 5
}
